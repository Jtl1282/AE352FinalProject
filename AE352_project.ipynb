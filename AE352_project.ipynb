{
  "cells": [
    {
      "cell_type": "code",
      "execution_count": 1,
      "id": "dbbabc7d-36b4-433f-a76e-82f4aedb1be1",
      "metadata": {
        "id": "dbbabc7d-36b4-433f-a76e-82f4aedb1be1"
      },
      "outputs": [],
      "source": [
        "import sympy as sym\n",
        "import numpy as np\n"
      ]
    },
    {
      "cell_type": "markdown",
      "id": "lU3_kEL28pko",
      "metadata": {
        "id": "lU3_kEL28pko"
      },
      "source": [
        "Determine mass for the system"
      ]
    },
    {
      "cell_type": "code",
      "execution_count": 36,
      "id": "358a82df-b268-4d18-b428-1a14ae6788aa",
      "metadata": {
        "colab": {
          "base_uri": "https://localhost:8080/"
        },
        "id": "358a82df-b268-4d18-b428-1a14ae6788aa",
        "outputId": "209456b7-45c4-4bd6-c3df-e47ab3455745"
      },
      "outputs": [],
      "source": [
        "#grams\n",
        "mass_frame = 192\n",
        "mass_rod_each = (mass_frame/5)\n",
        "mass_motor_each = 59\n",
        "mass_propellars_each= 28\n",
        "flight_control_mass = 27 + 28\n",
        "battery_mass = 528\n",
        "Esc_mass = 32\n",
        "reciever_mass = 0.7\n",
        "m_other = flight_control_mass + Esc_mass + reciever_mass\n",
        "\n",
        "total_mass = (mass_frame+ mass_motor_each*4  + mass_propellars_each*8+ flight_control_mass + battery_mass + Esc_mass + reciever_mass)\n",
        "# estimated_thrust_motor = (total_mass*9.81)/4\n",
        "Lift_each_motor = total_mass/4 # the units are grams so we divide the mass by 4 so each motor will produce this for the weight\n",
        "# 1023 / 1000 * 9.81 * 4  > lift_each_motor\n",
        "\n",
        "Endurance_max = ((5300/1000)/(15.5))*60 # when using max current/max motor power\n"
      ]
    },
    {
      "cell_type": "markdown",
      "id": "dvWnlv978ylG",
      "metadata": {
        "id": "dvWnlv978ylG"
      },
      "source": [
        "Determine Moment of Inertia for the system"
      ]
    },
    {
      "cell_type": "code",
      "execution_count": 3,
      "id": "39069fbe-98bf-4414-915c-67c645b5aca5",
      "metadata": {
        "colab": {
          "base_uri": "https://localhost:8080/"
        },
        "id": "39069fbe-98bf-4414-915c-67c645b5aca5",
        "outputId": "efdbb1b0-eb09-4290-9a33-aad857408f68"
      },
      "outputs": [
        {
          "name": "stdout",
          "output_type": "stream",
          "text": [
            "0.00471767170417833 0.00557932168897833 0.011045265556495001\n"
          ]
        }
      ],
      "source": [
        "mass_frame = 192/1000\n",
        "m_rod = (mass_frame/4)*2\n",
        "l_rod = 363.47/1000\n",
        "r_motor = (29/2)/1000\n",
        "h_motor = 24/1000\n",
        "theta = np.deg2rad(45)\n",
        "a = 138.69/1000\n",
        "b = 49.41/1000\n",
        "c = 46.09/1000\n",
        "m_battery = 528/1000\n",
        "m_motor = 59/1000\n",
        "m_other = 87.7/1000\n",
        "\n",
        "# no need parallel acis theorem for the rod bc its rotating abt its center\n",
        "I_rod_y = ((1/12)*m_rod*(l_rod*sym.cos(theta))**2*(sym.sin(theta))**2)*2\n",
        "I_rod_x = ((1/12)*m_rod*(l_rod*sym.cos(theta))**2*(sym.cos(theta))**2)*2\n",
        "I_rod_z = ((1/12)*m_rod*(l_rod**2)*2)\n",
        "\n",
        "#placing motors on top of frame\n",
        "I_cylinder_y = ((1/4)*m_motor*r_motor**2 + (1/3)*m_motor*h_motor**2 + m_motor*(l_rod/2*sym.sin(theta))**2)*4\n",
        "I_cylinder_x = ((1/4)*m_motor*r_motor**2 + (1/3)*m_motor*h_motor**2 + m_motor*(l_rod/2*sym.sin(theta))**2)*4\n",
        "I_cylinder_z = ((1/2)*m_motor*r_motor**2 + m_motor*(l_rod/2)**2)*4\n",
        "\n",
        "#battery box # cuboid also\n",
        "Iy = (1/12)*m_battery*(a**2 + c**2)\n",
        "Ix = (1/12)*m_battery*(b**2 + c**2)\n",
        "Iz = (1/12)*(m_battery)*(a**2 + b**2)\n",
        "\n",
        "#esc box # cuboid also\n",
        "Iy_esc = (1/12)*m_other*(a**2 + c**2)\n",
        "Ix_esc = (1/12)*m_other*(b**2 + c**2)\n",
        "Iz_esc = (1/12)*(m_other)*(a**2 + b**2)\n",
        "\n",
        "#final\n",
        "Ixx = I_rod_x + I_cylinder_x + Ix + Ix_esc\n",
        "Iyy = I_rod_y + I_cylinder_y + Iy + Iy_esc\n",
        "Izz = I_rod_z + I_cylinder_z + Iz + Iz_esc\n",
        "\n",
        "print(Ixx, Iyy, Izz)"
      ]
    },
    {
      "cell_type": "code",
      "execution_count": 4,
      "id": "8Plx2xQewkWL",
      "metadata": {
        "id": "8Plx2xQewkWL"
      },
      "outputs": [],
      "source": [
        "# Drone specs\n",
        "mass = 0.5    # Drone mass\n",
        "Ixx = I_rod_x + I_cylinder_x + Ix + Ix_esc  # Moment of inertia in the x direction (calculated above)\n",
        "Iyy = I_rod_y + I_cylinder_y + Iy + Iy_esc  # Moment of inertia in the y direction (calculated above)\n",
        "Izz = I_rod_z + I_cylinder_z + Iz + Iz_esc  # Moment of inertia in the z direction (calculated above)"
      ]
    },
    {
      "cell_type": "markdown",
      "id": "7S7mnSlX27Hf",
      "metadata": {
        "id": "7S7mnSlX27Hf"
      },
      "source": [
        "Define variables and matrices pertaining to the drone degrees of freedom"
      ]
    },
    {
      "cell_type": "code",
      "execution_count": 5,
      "id": "J3FcGwUTxVVI",
      "metadata": {
        "id": "J3FcGwUTxVVI"
      },
      "outputs": [],
      "source": [
        "# First 3 degrees of freedom: translation in the x, y, z directions\n",
        "\n",
        "# Drone position variables in the WORLD FRAME\n",
        "p_x, p_y, p_z = sym.symbols('p_x, p_y, p_z')\n",
        "\n",
        "# Position matrix (in WORLD FRAME)\n",
        "p_inW = sym.Matrix([[p_x],\n",
        "                    [p_y],\n",
        "                    [p_z]])\n",
        "\n",
        "\n",
        "# Drone velocity variables in the BODY FRAME\n",
        "v_x, v_y, v_z = sym.symbols('v_x, v_y, v_z')\n",
        "\n",
        "# Velocity matrix (in WORLD FRAME)\n",
        "v_inB = sym.Matrix([[v_x],\n",
        "                    [v_y],\n",
        "                    [v_z]])\n"
      ]
    },
    {
      "cell_type": "code",
      "execution_count": 6,
      "id": "xwtRLyZQ37sQ",
      "metadata": {
        "id": "xwtRLyZQ37sQ"
      },
      "outputs": [],
      "source": [
        "# Second 3 degrees of freedom: rotation in the phi, theta, psi directions\n",
        "\n",
        "# Drone roll (phi), pitch (theta), and yaw (psi) angles in the WORLD FRAME\n",
        "phi, theta, psi = sym.symbols('phi, theta, psi')\n",
        "\n",
        "# Roll, pitch, and yaw rotation matrices that describe orientation in the WORLD FRAME\n",
        "Rx = sym.Matrix([[1,            0,             0],\n",
        "                 [0, sym.cos(phi), -sym.sin(phi)],\n",
        "                 [0, sym.sin(phi),  sym.cos(phi)]])\n",
        "Ry = sym.Matrix([[ sym.cos(theta), 0, sym.sin(theta)],\n",
        "                 [              0, 1,              0],\n",
        "                 [-sym.sin(theta), 0, sym.cos(theta)]])\n",
        "Rz = sym.Matrix([[sym.cos(psi), -sym.sin(psi), 0],\n",
        "                 [sym.sin(psi),  sym.cos(psi), 0],\n",
        "                 [           0,             0, 1]])\n",
        "R_ofB_inW = Rz @ Ry @ Rx\n",
        "R_ofW_inB = R_ofB_inW.T\n",
        "\n",
        "\n",
        "# Drone angular velocities in the BODY FRAME\n",
        "w_x, w_y, w_z = sym.symbols('omega_x, omega_y, omega_z')\n",
        "\n",
        "# Angular velocity matrix (in BODY FRAME)\n",
        "w_inB = sym.Matrix([[w_x],\n",
        "                    [w_y],\n",
        "                    [w_z]])"
      ]
    },
    {
      "cell_type": "markdown",
      "id": "8sdfSllj56So",
      "metadata": {
        "id": "8sdfSllj56So"
      },
      "source": [
        "Define variables and matrices pertaining to system inputs"
      ]
    },
    {
      "cell_type": "code",
      "execution_count": 7,
      "id": "4UPPaqlBxWR4",
      "metadata": {
        "id": "4UPPaqlBxWR4"
      },
      "outputs": [],
      "source": [
        "# Drone moment of inertia matrix\n",
        "I_inB = sym.Matrix([[Ixx, 0.,  0.],\n",
        "                    [0.,  Iyy, 0.],\n",
        "                    [0.,  0.,  Izz]])"
      ]
    },
    {
      "cell_type": "code",
      "execution_count": 24,
      "id": "29JlH7m850zW",
      "metadata": {
        "id": "29JlH7m850zW"
      },
      "outputs": [],
      "source": [
        "# Drone rotor torque inputs in the BODY FRAME\n",
        "w_1, w_2, w_3, w_4, h1, h2, h3 = sym.symbols('w_1, w_2, w_3, w_4, h1, h2, h3')\n",
        "\n",
        "#Thrust coefficient calculation using off the shelf parts\n",
        "#max RPM\n",
        "#RPM = KV * Volt\n",
        "RPM = 800 * 14.8\n",
        "RPS = RPM / 60\n",
        "#propeller diameter\n",
        "Prop_d = 0.23876\n",
        "#max thrust\n",
        "g = 9.81 #m/s^2 gravity on Earth\n",
        "T_m = 1023/1000 * g\n",
        "#air density\n",
        "rho = 1.225\n",
        "#Thrust coefficient\n",
        "K_T = T_m / (rho * RPS**2 * Prop_d**4)\n",
        "\n",
        "#drag torque proportioanlity constant\n",
        "K_d = 0 #set equal to 0 since we are ignoring drag in this model\n",
        "\n",
        "# Torque matrix (in BODY FRAME)\n",
        "#The angular speeds have opposite signs as every other motor will rotate in the opposite direction to remove any unwanted moment caused by the motor torques\n",
        "tau_inB = sym.Matrix([[l_rod/2 * K_T * (w_4**2 - w_2**2)],\n",
        "                      [l_rod/2 * K_T * (w_3**2 - w_1**2)],\n",
        "                      [K_d * (w_1**2 - w_2**2 + w_3**2 - w_4**2)]])\n",
        "tau_inB = sym.simplify(tau_inB)\n",
        "\n",
        "\n",
        "# Drone vertical z axis forces with force from gravity and force keeping the drone aloft\n",
        "grav_inW = sym.Matrix([[0.],\n",
        "                       [0.],\n",
        "                       [-mass * g]])\n",
        "grav_inB = R_ofW_inB @ grav_inW # Gravity force converted to body coordinates\n",
        "\n",
        "head = np.array([\n",
        "    [h1, -h2, 0],\n",
        "    [h2,  h1, 0],\n",
        "    [0, 0, 1]\n",
        "])\n",
        "\n",
        "f_z = K_T * (w_1**2 + w_2**2 + w_3**2 + w_4**2) # Drone vertical force\n",
        "f_inB = grav_inB + sym.Matrix([[0.],\n",
        "                               [0.],\n",
        "                               [f_z]])\n",
        "f_inB = head @ R_ofB_inW @ f_inB\n",
        "f_inB = sym.simplify(f_inB)"
      ]
    },
    {
      "cell_type": "markdown",
      "id": "UErJE0AM-LXA",
      "metadata": {
        "id": "UErJE0AM-LXA"
      },
      "source": [
        "Convert the body-fixed velocity to world-fixed velocity to get the derivatives of position (p_dot)"
      ]
    },
    {
      "cell_type": "code",
      "execution_count": 48,
      "id": "Ld3n19fm-UNg",
      "metadata": {
        "colab": {
          "base_uri": "https://localhost:8080/",
          "height": 95
        },
        "id": "Ld3n19fm-UNg",
        "outputId": "0ebe10d1-5f28-429c-bbe6-d83e5f07d09e"
      },
      "outputs": [],
      "source": [
        "# World frame to body frame p dot\n",
        "v_inW = R_ofB_inW @ v_inB\n",
        "p_dot = sym.simplify(v_inW)"
      ]
    },
    {
      "cell_type": "markdown",
      "id": "icS-ro8u-ijE",
      "metadata": {
        "id": "icS-ro8u-ijE"
      },
      "source": [
        "Apply [Newton's second law in a rotating frame](https://en.wikipedia.org/wiki/Rotating_reference_frame) to get the derivative of the velocity in body-fixed coordinates."
      ]
    },
    {
      "cell_type": "code",
      "execution_count": 49,
      "id": "b9eGqoDe-c6v",
      "metadata": {
        "colab": {
          "base_uri": "https://localhost:8080/",
          "height": 96
        },
        "id": "b9eGqoDe-c6v",
        "outputId": "d987635a-e281-4ae1-fce8-70764fb0ad46"
      },
      "outputs": [
        {
          "name": "stdout",
          "output_type": "stream",
          "text": [
            "Body-fixed velocity rates as a function of orientation, body-fixed velocities, and applied forces:\n"
          ]
        },
        {
          "data": {
            "text/latex": [
              "$\\displaystyle \\left[\\begin{matrix}- 1.0 \\omega_{y} v_{z} + 1.0 \\omega_{z} v_{y} + 2.0 \\left(h_{1} \\left(\\sin{\\left(\\phi \\right)} \\sin{\\left(\\psi \\right)} + \\sin{\\left(\\theta \\right)} \\cos{\\left(\\phi \\right)} \\cos{\\left(\\psi \\right)}\\right) + h_{2} \\left(\\sin{\\left(\\phi \\right)} \\cos{\\left(\\psi \\right)} - \\sin{\\left(\\psi \\right)} \\sin{\\left(\\theta \\right)} \\cos{\\left(\\phi \\right)}\\right)\\right) \\left(0.0647 w_{1}^{2} + 0.0647 w_{2}^{2} + 0.0647 w_{3}^{2} + 0.0647 w_{4}^{2} - 4.91 \\cos{\\left(\\phi \\right)} \\cos{\\left(\\theta \\right)}\\right) - 9.81 \\left(h_{1} \\left(\\sin{\\left(\\phi \\right)} \\sin{\\left(\\theta \\right)} \\cos{\\left(\\psi \\right)} - \\sin{\\left(\\psi \\right)} \\cos{\\left(\\phi \\right)}\\right) - h_{2} \\left(\\sin{\\left(\\phi \\right)} \\sin{\\left(\\psi \\right)} \\sin{\\left(\\theta \\right)} + \\cos{\\left(\\phi \\right)} \\cos{\\left(\\psi \\right)}\\right)\\right) \\sin{\\left(\\phi \\right)} \\cos{\\left(\\theta \\right)} + 9.81 \\left(h_{1} \\cos{\\left(\\psi \\right)} - h_{2} \\sin{\\left(\\psi \\right)}\\right) \\sin{\\left(\\theta \\right)} \\cos{\\left(\\theta \\right)}\\\\1.0 \\omega_{x} v_{z} - 1.0 \\omega_{z} v_{x} - 2.0 \\left(h_{1} \\left(\\sin{\\left(\\phi \\right)} \\cos{\\left(\\psi \\right)} - \\sin{\\left(\\psi \\right)} \\sin{\\left(\\theta \\right)} \\cos{\\left(\\phi \\right)}\\right) - h_{2} \\left(\\sin{\\left(\\phi \\right)} \\sin{\\left(\\psi \\right)} + \\sin{\\left(\\theta \\right)} \\cos{\\left(\\phi \\right)} \\cos{\\left(\\psi \\right)}\\right)\\right) \\left(0.0647 w_{1}^{2} + 0.0647 w_{2}^{2} + 0.0647 w_{3}^{2} + 0.0647 w_{4}^{2} - 4.91 \\cos{\\left(\\phi \\right)} \\cos{\\left(\\theta \\right)}\\right) - 9.81 \\left(h_{1} \\left(\\sin{\\left(\\phi \\right)} \\sin{\\left(\\psi \\right)} \\sin{\\left(\\theta \\right)} + \\cos{\\left(\\phi \\right)} \\cos{\\left(\\psi \\right)}\\right) + h_{2} \\left(\\sin{\\left(\\phi \\right)} \\sin{\\left(\\theta \\right)} \\cos{\\left(\\psi \\right)} - \\sin{\\left(\\psi \\right)} \\cos{\\left(\\phi \\right)}\\right)\\right) \\sin{\\left(\\phi \\right)} \\cos{\\left(\\theta \\right)} + 9.81 \\left(h_{1} \\sin{\\left(\\psi \\right)} + h_{2} \\cos{\\left(\\psi \\right)}\\right) \\sin{\\left(\\theta \\right)} \\cos{\\left(\\theta \\right)}\\\\- 1.0 \\omega_{x} v_{y} + 1.0 \\omega_{y} v_{x} + 2.0 \\cdot \\left(0.0647 w_{1}^{2} + 0.0647 w_{2}^{2} + 0.0647 w_{3}^{2} + 0.0647 w_{4}^{2} - 4.91 \\cos{\\left(\\phi \\right)} \\cos{\\left(\\theta \\right)}\\right) \\cos{\\left(\\phi \\right)} \\cos{\\left(\\theta \\right)} - 9.81 \\sin^{2}{\\left(\\phi \\right)} \\cos^{2}{\\left(\\theta \\right)} - 9.81 \\sin^{2}{\\left(\\theta \\right)}\\end{matrix}\\right]$"
            ],
            "text/plain": [
              "Matrix([\n",
              "[-1.0*omega_y*v_z + 1.0*omega_z*v_y + 2.0*(h1*(sin(phi)*sin(psi) + sin(theta)*cos(phi)*cos(psi)) + h2*(sin(phi)*cos(psi) - sin(psi)*sin(theta)*cos(phi)))*(0.0647*w_1**2 + 0.0647*w_2**2 + 0.0647*w_3**2 + 0.0647*w_4**2 - 4.91*cos(phi)*cos(theta)) - 9.81*(h1*(sin(phi)*sin(theta)*cos(psi) - sin(psi)*cos(phi)) - h2*(sin(phi)*sin(psi)*sin(theta) + cos(phi)*cos(psi)))*sin(phi)*cos(theta) + 9.81*(h1*cos(psi) - h2*sin(psi))*sin(theta)*cos(theta)],\n",
              "[ 1.0*omega_x*v_z - 1.0*omega_z*v_x - 2.0*(h1*(sin(phi)*cos(psi) - sin(psi)*sin(theta)*cos(phi)) - h2*(sin(phi)*sin(psi) + sin(theta)*cos(phi)*cos(psi)))*(0.0647*w_1**2 + 0.0647*w_2**2 + 0.0647*w_3**2 + 0.0647*w_4**2 - 4.91*cos(phi)*cos(theta)) - 9.81*(h1*(sin(phi)*sin(psi)*sin(theta) + cos(phi)*cos(psi)) + h2*(sin(phi)*sin(theta)*cos(psi) - sin(psi)*cos(phi)))*sin(phi)*cos(theta) + 9.81*(h1*sin(psi) + h2*cos(psi))*sin(theta)*cos(theta)],\n",
              "[                                                                                                                                                                                                                                          -1.0*omega_x*v_y + 1.0*omega_y*v_x + 2.0*(0.0647*w_1**2 + 0.0647*w_2**2 + 0.0647*w_3**2 + 0.0647*w_4**2 - 4.91*cos(phi)*cos(theta))*cos(phi)*cos(theta) - 9.81*sin(phi)**2*cos(theta)**2 - 9.81*sin(theta)**2]])"
            ]
          },
          "execution_count": 49,
          "metadata": {},
          "output_type": "execute_result"
        }
      ],
      "source": [
        "# 1/m * (thrust and gravity force in body frame - coriolis force)\n",
        "\n",
        "v_inB_dot = (1 / mass) * (f_inB - w_inB.cross(mass * v_inB))\n",
        "print(\"Body-fixed velocity rates as a function of orientation, body-fixed velocities, and applied forces:\")\n",
        "\n",
        "# Three decimal places for readability\n",
        "v_inB_dot = sym.simplify(v_inB_dot)\n",
        "sym.N(v_inB_dot,3)"
      ]
    },
    {
      "cell_type": "markdown",
      "id": "Rh0aspQh-zBq",
      "metadata": {
        "id": "Rh0aspQh-zBq"
      },
      "source": [
        "Calculate the roll, pitch, and yaw rates as a function of the orientation and body-fixed angular rates."
      ]
    },
    {
      "cell_type": "code",
      "execution_count": 50,
      "id": "tLQZDnYG-pDM",
      "metadata": {
        "colab": {
          "base_uri": "https://localhost:8080/",
          "height": 101
        },
        "id": "tLQZDnYG-pDM",
        "outputId": "00dc9291-da4c-454e-a975-f53d16947cc9"
      },
      "outputs": [],
      "source": [
        "# Define the transformation that takes roll, pitch, and yaw rates to body-fixed angular rates\n",
        "ex = sym.Matrix([[1], [0], [0]])\n",
        "ey = sym.Matrix([[0], [1], [0]])\n",
        "ez = sym.Matrix([[0], [0], [1]])\n",
        "M = sym.Matrix.hstack(ex, Rx.T@ey, (Ry@Rx).T@ez)\n",
        "\n",
        "# Invert the transformation to get a matrix that takes body-fixed angular rates to\n",
        "# roll, pitch, and yaw rates\n",
        "M_inv = sym.simplify(M.inv())\n",
        "\n",
        "# Convert the body-fixed angular rates to roll, pitch, and yaw rates\n",
        "rpy_dot = sym.simplify(M_inv@w_inB)"
      ]
    },
    {
      "cell_type": "markdown",
      "id": "h4Vv9HnZ-57X",
      "metadata": {
        "id": "h4Vv9HnZ-57X"
      },
      "source": [
        "Use [Euler's Equations](https://en.wikipedia.org/wiki/Euler%27s_equations_(rigid_body_dynamics)) to generate the equations of motion that relate angular velocity to input torque."
      ]
    },
    {
      "cell_type": "code",
      "execution_count": 51,
      "id": "qbU7n3vE-3WR",
      "metadata": {
        "colab": {
          "base_uri": "https://localhost:8080/",
          "height": 95
        },
        "id": "qbU7n3vE-3WR",
        "outputId": "57035451-f742-4e95-a805-c74465aa4208"
      },
      "outputs": [
        {
          "name": "stdout",
          "output_type": "stream",
          "text": [
            "Time derivative of the angular velocities in the body-fixed frame:\n"
          ]
        },
        {
          "data": {
            "text/latex": [
              "$\\displaystyle \\left[\\begin{matrix}- 1.16 \\omega_{y} \\omega_{z} - 2.49 w_{2}^{2} + 2.49 w_{4}^{2}\\\\1.13 \\omega_{x} \\omega_{z} - 2.11 w_{1}^{2} + 2.11 w_{3}^{2}\\\\- 0.078 \\omega_{x} \\omega_{y}\\end{matrix}\\right]$"
            ],
            "text/plain": [
              "Matrix([\n",
              "[-1.16*omega_y*omega_z - 2.49*w_2**2 + 2.49*w_4**2],\n",
              "[ 1.13*omega_x*omega_z - 2.11*w_1**2 + 2.11*w_3**2],\n",
              "[                           -0.078*omega_x*omega_y]])"
            ]
          },
          "execution_count": 51,
          "metadata": {},
          "output_type": "execute_result"
        }
      ],
      "source": [
        "# Apply Euler's equation to get the time derivative of the angular velocities of the quadrotor in the quadrotor frame\n",
        "w_inB_dot = I_inB.inv() @ (tau_inB - w_inB.cross(I_inB@w_inB))\n",
        "print(\"Time derivative of the angular velocities in the body-fixed frame:\")\n",
        "w_inB_dot = sym.simplify(w_inB_dot)\n",
        "sym.N(w_inB_dot, 3)"
      ]
    },
    {
      "cell_type": "markdown",
      "id": "YcZ_i_As-_gp",
      "metadata": {
        "id": "YcZ_i_As-_gp"
      },
      "source": [
        "Assemble all differential equations."
      ]
    },
    {
      "cell_type": "code",
      "execution_count": 52,
      "id": "Ucr8O6EN-9L3",
      "metadata": {
        "id": "Ucr8O6EN-9L3"
      },
      "outputs": [],
      "source": [
        "f = sym.Matrix.vstack(v_inB_dot,\n",
        "                      w_inB_dot)"
      ]
    },
    {
      "cell_type": "markdown",
      "id": "H6Vt_Uee_JRl",
      "metadata": {
        "id": "H6Vt_Uee_JRl"
      },
      "source": [
        "The equations of motion have this form:\n",
        "\n",
        "$$\\begin{bmatrix} \\dot{v_x} \\\\ \\dot{v_y} \\\\ \\dot{v_z} \\\\ \\dot{\\omega_x} \\\\ \\dot{\\omega_y} \\\\ \\dot{\\omega_z} \\end{bmatrix}=f\\left(v_x, v_y, v_z, \\phi, \\theta, \\psi, \\omega_x, \\omega_y, \\omega_z, w_1, w_2, w_3, w_4, h_1, h_2\\right)$$\n",
        "\n",
        "$f$:"
      ]
    },
    {
      "cell_type": "code",
      "execution_count": 53,
      "id": "AvfrUlNm--rp",
      "metadata": {
        "colab": {
          "base_uri": "https://localhost:8080/",
          "height": 268
        },
        "id": "AvfrUlNm--rp",
        "outputId": "4fcb6af6-b03c-4c43-ad4a-b2dc6f5f311d"
      },
      "outputs": [
        {
          "data": {
            "text/latex": [
              "$\\displaystyle \\left[\\begin{matrix}- 1.0 \\omega_{y} v_{z} + 1.0 \\omega_{z} v_{y} + 2.0 \\left(h_{1} \\left(\\sin{\\left(\\phi \\right)} \\sin{\\left(\\psi \\right)} + \\sin{\\left(\\theta \\right)} \\cos{\\left(\\phi \\right)} \\cos{\\left(\\psi \\right)}\\right) + h_{2} \\left(\\sin{\\left(\\phi \\right)} \\cos{\\left(\\psi \\right)} - \\sin{\\left(\\psi \\right)} \\sin{\\left(\\theta \\right)} \\cos{\\left(\\phi \\right)}\\right)\\right) \\left(0.0647 w_{1}^{2} + 0.0647 w_{2}^{2} + 0.0647 w_{3}^{2} + 0.0647 w_{4}^{2} - 4.91 \\cos{\\left(\\phi \\right)} \\cos{\\left(\\theta \\right)}\\right) - 9.81 \\left(h_{1} \\left(\\sin{\\left(\\phi \\right)} \\sin{\\left(\\theta \\right)} \\cos{\\left(\\psi \\right)} - \\sin{\\left(\\psi \\right)} \\cos{\\left(\\phi \\right)}\\right) - h_{2} \\left(\\sin{\\left(\\phi \\right)} \\sin{\\left(\\psi \\right)} \\sin{\\left(\\theta \\right)} + \\cos{\\left(\\phi \\right)} \\cos{\\left(\\psi \\right)}\\right)\\right) \\sin{\\left(\\phi \\right)} \\cos{\\left(\\theta \\right)} + 9.81 \\left(h_{1} \\cos{\\left(\\psi \\right)} - h_{2} \\sin{\\left(\\psi \\right)}\\right) \\sin{\\left(\\theta \\right)} \\cos{\\left(\\theta \\right)}\\\\1.0 \\omega_{x} v_{z} - 1.0 \\omega_{z} v_{x} - 2.0 \\left(h_{1} \\left(\\sin{\\left(\\phi \\right)} \\cos{\\left(\\psi \\right)} - \\sin{\\left(\\psi \\right)} \\sin{\\left(\\theta \\right)} \\cos{\\left(\\phi \\right)}\\right) - h_{2} \\left(\\sin{\\left(\\phi \\right)} \\sin{\\left(\\psi \\right)} + \\sin{\\left(\\theta \\right)} \\cos{\\left(\\phi \\right)} \\cos{\\left(\\psi \\right)}\\right)\\right) \\left(0.0647 w_{1}^{2} + 0.0647 w_{2}^{2} + 0.0647 w_{3}^{2} + 0.0647 w_{4}^{2} - 4.91 \\cos{\\left(\\phi \\right)} \\cos{\\left(\\theta \\right)}\\right) - 9.81 \\left(h_{1} \\left(\\sin{\\left(\\phi \\right)} \\sin{\\left(\\psi \\right)} \\sin{\\left(\\theta \\right)} + \\cos{\\left(\\phi \\right)} \\cos{\\left(\\psi \\right)}\\right) + h_{2} \\left(\\sin{\\left(\\phi \\right)} \\sin{\\left(\\theta \\right)} \\cos{\\left(\\psi \\right)} - \\sin{\\left(\\psi \\right)} \\cos{\\left(\\phi \\right)}\\right)\\right) \\sin{\\left(\\phi \\right)} \\cos{\\left(\\theta \\right)} + 9.81 \\left(h_{1} \\sin{\\left(\\psi \\right)} + h_{2} \\cos{\\left(\\psi \\right)}\\right) \\sin{\\left(\\theta \\right)} \\cos{\\left(\\theta \\right)}\\\\- 1.0 \\omega_{x} v_{y} + 1.0 \\omega_{y} v_{x} + 2.0 \\cdot \\left(0.0647 w_{1}^{2} + 0.0647 w_{2}^{2} + 0.0647 w_{3}^{2} + 0.0647 w_{4}^{2} - 4.91 \\cos{\\left(\\phi \\right)} \\cos{\\left(\\theta \\right)}\\right) \\cos{\\left(\\phi \\right)} \\cos{\\left(\\theta \\right)} - 9.81 \\sin^{2}{\\left(\\phi \\right)} \\cos^{2}{\\left(\\theta \\right)} - 9.81 \\sin^{2}{\\left(\\theta \\right)}\\\\- 1.16 \\omega_{y} \\omega_{z} - 2.49 w_{2}^{2} + 2.49 w_{4}^{2}\\\\1.13 \\omega_{x} \\omega_{z} - 2.11 w_{1}^{2} + 2.11 w_{3}^{2}\\\\- 0.078 \\omega_{x} \\omega_{y}\\end{matrix}\\right]$"
            ],
            "text/plain": [
              "Matrix([\n",
              "[-1.0*omega_y*v_z + 1.0*omega_z*v_y + 2.0*(h1*(sin(phi)*sin(psi) + sin(theta)*cos(phi)*cos(psi)) + h2*(sin(phi)*cos(psi) - sin(psi)*sin(theta)*cos(phi)))*(0.0647*w_1**2 + 0.0647*w_2**2 + 0.0647*w_3**2 + 0.0647*w_4**2 - 4.91*cos(phi)*cos(theta)) - 9.81*(h1*(sin(phi)*sin(theta)*cos(psi) - sin(psi)*cos(phi)) - h2*(sin(phi)*sin(psi)*sin(theta) + cos(phi)*cos(psi)))*sin(phi)*cos(theta) + 9.81*(h1*cos(psi) - h2*sin(psi))*sin(theta)*cos(theta)],\n",
              "[ 1.0*omega_x*v_z - 1.0*omega_z*v_x - 2.0*(h1*(sin(phi)*cos(psi) - sin(psi)*sin(theta)*cos(phi)) - h2*(sin(phi)*sin(psi) + sin(theta)*cos(phi)*cos(psi)))*(0.0647*w_1**2 + 0.0647*w_2**2 + 0.0647*w_3**2 + 0.0647*w_4**2 - 4.91*cos(phi)*cos(theta)) - 9.81*(h1*(sin(phi)*sin(psi)*sin(theta) + cos(phi)*cos(psi)) + h2*(sin(phi)*sin(theta)*cos(psi) - sin(psi)*cos(phi)))*sin(phi)*cos(theta) + 9.81*(h1*sin(psi) + h2*cos(psi))*sin(theta)*cos(theta)],\n",
              "[                                                                                                                                                                                                                                          -1.0*omega_x*v_y + 1.0*omega_y*v_x + 2.0*(0.0647*w_1**2 + 0.0647*w_2**2 + 0.0647*w_3**2 + 0.0647*w_4**2 - 4.91*cos(phi)*cos(theta))*cos(phi)*cos(theta) - 9.81*sin(phi)**2*cos(theta)**2 - 9.81*sin(theta)**2],\n",
              "[                                                                                                                                                                                                                                                                                                                                                                                                      -1.16*omega_y*omega_z - 2.49*w_2**2 + 2.49*w_4**2],\n",
              "[                                                                                                                                                                                                                                                                                                                                                                                                       1.13*omega_x*omega_z - 2.11*w_1**2 + 2.11*w_3**2],\n",
              "[                                                                                                                                                                                                                                                                                                                                                                                                                                 -0.078*omega_x*omega_y]])"
            ]
          },
          "execution_count": 53,
          "metadata": {},
          "output_type": "execute_result"
        }
      ],
      "source": [
        "sym.N(f,3)"
      ]
    },
    {
      "cell_type": "markdown",
      "id": "Uq7oRu9R-izW",
      "metadata": {
        "id": "Uq7oRu9R-izW"
      },
      "source": [
        "Verification 1: Hover 1m above ground for 2 minutes."
      ]
    },
    {
      "cell_type": "code",
      "execution_count": 56,
      "id": "wa9twCgu_GVq",
      "metadata": {
        "colab": {
          "base_uri": "https://localhost:8080/",
          "height": 1000
        },
        "id": "wa9twCgu_GVq",
        "outputId": "da2768d4-3a56-4c05-dbbc-330ba69ed4a2"
      },
      "outputs": [
        {
          "data": {
            "image/png": "[encoded data removed]",
            "text/plain": [
              "<Figure size 640x480 with 1 Axes>"
            ]
          },
          "metadata": {},
          "output_type": "display_data"
        },
        {
          "data": {
            "image/png": "[encoded data removed]",
            "text/plain": [
              "<Figure size 640x480 with 1 Axes>"
            ]
          },
          "metadata": {},
          "output_type": "display_data"
        }
      ],
      "source": [
        "#store equations necessary\n",
        "lVelEq = p_dot\n",
        "lAccelEq = v_inB_dot\n",
        "aVelEq = rpy_dot\n",
        "aAccelEq = w_inB_dot\n",
        "\n",
        "#initial conditions\n",
        "lPos = sym.Matrix([0, 0, 1]) #x,y,z m\n",
        "lVel = sym.Matrix([0, 0, 0]) #vx,vy,vz m/s\n",
        "aPos = sym.Matrix([0, 0, 0]) #phi,theta,psi rad\n",
        "aVel = sym.Matrix([0, 0, 0]) #vphi,vtheta,vpsi rad/s\n",
        "heading = lVel / sym.sqrt(lVel[0]**2 + lVel[1]**2 + lVel[2]**2)\n",
        "\n",
        "#Thrust of each motor to counteract weight\n",
        "T = -grav_inW[2] / 4\n",
        "#Speed of each motor to produce necessary thrust\n",
        "w = (T / K_T)**(1/2)\n",
        "\n",
        "#initial linear and angular acceleration\n",
        "lAccel = sym.Matrix(lAccelEq.subs({w_x:aVel[0], w_y:aVel[1], w_z:aVel[2], v_x:lVel[0], v_y:lVel[1], v_z:lVel[2],\n",
        "                                   phi:aPos[0], theta:aPos[1], psi:aPos[2], w_1:w, w_2:w, w_3:w, w_4:w,\n",
        "                                   h1:heading[0], h2:heading[1], h3:heading[2]}))\n",
        "if abs(lAccel[2]) < 1e-12:\n",
        "  lAccel[2] = 0\n",
        "aAccel = aAccelEq.subs({w_x:aVel[0], w_y:aVel[1], w_z:aVel[2], w_1:w, w_2:w, w_3:w, w_4:w})\n",
        "\n",
        "#create contianers for values over time\n",
        "t_vals = []\n",
        "lPos_vals = []\n",
        "lVel_vals = []\n",
        "lAccel_vals = []\n",
        "aPos_vals = []\n",
        "aVel_vals = []\n",
        "aAccel_vals = []\n",
        "\n",
        "#iterate the eoms over 2 minutes (120 seconds) updating every 0.01 seconds (12001 loops)\n",
        "dt = 0.01 #s\n",
        "for t in range(12001):\n",
        "  #append the current values to the list for each time step\n",
        "  t_vals.append(t*dt)\n",
        "  lPos_vals.append(lPos)\n",
        "  lVel_vals.append(lVel)\n",
        "  lAccel_vals.append(lAccel)\n",
        "  aPos_vals.append(aPos)\n",
        "  aVel_vals.append(aVel)\n",
        "  aAccel_vals.append(aAccel)\n",
        "\n",
        "  #determine the current acceleration during the timestep\n",
        "  lAccel = sym.Matrix(lAccelEq.subs({w_x:aVel[0], w_y:aVel[1], w_z:aVel[2], v_x:lVel[0], v_y:lVel[1], v_z:lVel[2],\n",
        "                                     phi:aPos[0], theta:aPos[1], psi:aPos[2], w_1:w, w_2:w, w_3:w, w_4:w,\n",
        "                                     h1:heading[0], h2:heading[1], h3:heading[2]})) #the motor speeds will not change while hovering\n",
        "  if abs(lAccel[2]) < 1e-12:\n",
        "    lAccel[2] = 0 #set the tolerance at 1e-12 for calculations slightly off from numpy or sympy\n",
        "  #update other values accordingly\n",
        "  lPos = lPos + lVel * dt\n",
        "  lVel = lVel + lAccel * dt\n",
        "  heading = lVel / sym.sqrt(lVel[0]**2 + lVel[1]**2 + lVel[2]**2)\n",
        "  #determine the current angular acceleration during the timestep\n",
        "  aAccel = aAccelEq.subs({w_x:aVel[0], w_y:aVel[1], w_z:aVel[2], w_1:w, w_2:w, w_3:w, w_4:w}) #the motor speeds will not change while hovering\n",
        "  #update other values accordingly\n",
        "  aPos = aPos + aVel * dt\n",
        "  aVel = aVel + aAccel * dt\n",
        "\n",
        "#extract x, y, z, phi, theta, ans psi values from the lists\n",
        "lPos_valsX = [pos[0] for pos in lPos_vals]\n",
        "lPos_valsY = [pos[1] for pos in lPos_vals]\n",
        "lPos_valsZ = [pos[2] for pos in lPos_vals]\n",
        "aPos_valsPhi = [pos[0] for pos in aPos_vals]\n",
        "aPos_valsTheta = [pos[1] for pos in aPos_vals]\n",
        "aPos_valsPsi = [pos[2] for pos in aPos_vals]\n",
        "\n",
        "#import matplotlib\n",
        "from matplotlib import pyplot as plt\n",
        "\n",
        "#plot out the translational and angular positioning of the drone over 2 minutes of hovering\n",
        "plt.plot(t_vals, lPos_valsX, label=\"X\")\n",
        "plt.plot(t_vals, lPos_valsY, label=\"Y\")\n",
        "plt.plot(t_vals, lPos_valsZ, label=\"Z\")\n",
        "plt.xlabel('Time (s)')\n",
        "plt.ylabel('Position (m)')\n",
        "plt.title('Linear Position (m) vs Time')\n",
        "plt.legend()\n",
        "plt.show()\n",
        "\n",
        "plt.plot(t_vals, aPos_valsPhi, label=\"Phi\")\n",
        "plt.plot(t_vals, aPos_valsTheta, label=\"Theta\")\n",
        "plt.plot(t_vals, aPos_valsPsi, label=\"Psi\")\n",
        "plt.xlabel('Time (s)')\n",
        "plt.ylabel('Angle (rad)')\n",
        "plt.title('Angular Postion (rad) vs Time')\n",
        "plt.legend()\n",
        "plt.show()\n"
      ]
    },
    {
      "cell_type": "markdown",
      "id": "rVPzjWBwYzLr",
      "metadata": {
        "id": "rVPzjWBwYzLr"
      },
      "source": [
        "Verification 2: Fly in a circle of radius 2m, at an altitude of 1m above ground at a speed\n",
        "of 0.5m/s for at least 1 minute."
      ]
    },
    {
      "cell_type": "code",
      "execution_count": 55,
      "id": "vn9cKkZ-Y_SM",
      "metadata": {
        "id": "vn9cKkZ-Y_SM"
      },
      "outputs": [
        {
          "data": {
            "image/png": "[encoded data removed]",
            "text/plain": [
              "<Figure size 640x480 with 1 Axes>"
            ]
          },
          "metadata": {},
          "output_type": "display_data"
        },
        {
          "data": {
            "image/png": "[encoded data removed]",
            "text/plain": [
              "<Figure size 640x480 with 1 Axes>"
            ]
          },
          "metadata": {},
          "output_type": "display_data"
        }
      ],
      "source": [
        "#store equations necessary\n",
        "lVelEq = p_dot\n",
        "lAccelEq = v_inB_dot\n",
        "aVelEq = rpy_dot\n",
        "aAccelEq = w_inB_dot\n",
        "\n",
        "#initial conditions\n",
        "a_c = -0.5**2 / 2\n",
        "a_v = g\n",
        "i_phi = sym.atan2(a_c, a_v)\n",
        "\n",
        "lPos = sym.Matrix([2, 0, 1]) #x,y,z m\n",
        "lVel = sym.Matrix([0, 0.5, 0]) #vx,vy,vz m/s\n",
        "aPos = sym.Matrix([i_phi, 0, 0]) #phi,theta,psi rad\n",
        "aVel = sym.Matrix([0, 0, 0]) #vphi,vtheta,vpsi rad/s\n",
        "#set the heading up (direction in which the drone is moving)\n",
        "heading = lVel / sym.sqrt(lVel[0]**2 + lVel[1]**2 + lVel[2]**2)\n",
        "\n",
        "#Thrust of each motor to counteract weight and spin in a circle\n",
        "T = mass * sym.sqrt(a_c**2 + a_v**2) / 4  #The vertical force defined above needs to change because it only works if the drone is in a nuetral position (basically just need to add angle dependence)\n",
        "#Speed of each motor to produce necessary thrust\n",
        "w = (T / K_T)**(1/2)\n",
        "\n",
        "#initial linear and angular acceleration\n",
        "lAccel = sym.Matrix(lAccelEq.subs({w_x:aVel[0], w_y:aVel[1], w_z:aVel[2], v_x:lVel[0], v_y:lVel[1], v_z:lVel[2],\n",
        "                                   phi:aPos[0], theta:aPos[1], psi:aPos[2], w_1:w, w_2:w, w_3:w, w_4:w,\n",
        "                                   h1:heading[0], h2:heading[1], h3:heading[2]}))\n",
        "if abs(lAccel[2]) < 1e-12:\n",
        "  lAccel[2] = 0\n",
        "aAccel = aAccelEq.subs({w_x:aVel[0], w_y:aVel[1], w_z:aVel[2], w_1:w, w_2:w, w_3:w, w_4:w})\n",
        "\n",
        "#create contianers for values over time\n",
        "t_vals = []\n",
        "lPos_vals = []\n",
        "lVel_vals = []\n",
        "lAccel_vals = []\n",
        "aPos_vals = []\n",
        "aVel_vals = []\n",
        "aAccel_vals = []\n",
        "\n",
        "#iterate the eoms over 2 minutes (120 seconds) updating every 0.01 seconds (12001 loops)\n",
        "dt = 0.01 #s\n",
        "for t in range(6001): #only doing 10 seconds rn to get it working\n",
        "  #append the current values to the list for each time step\n",
        "  t_vals.append(t*dt)\n",
        "  lPos_vals.append(lPos)\n",
        "  lVel_vals.append(lVel)\n",
        "  lAccel_vals.append(lAccel)\n",
        "  aPos_vals.append(aPos)\n",
        "  aVel_vals.append(aVel)\n",
        "  aAccel_vals.append(aAccel)\n",
        "\n",
        "  #determine the current acceleration during the timestep\n",
        "  lAccel = sym.Matrix(lAccelEq.subs({w_x:aVel[0], w_y:aVel[1], w_z:aVel[2], v_x:lVel[0], v_y:lVel[1], v_z:lVel[2],\n",
        "                                     phi:aPos[0], theta:aPos[1], psi:aPos[2], w_1:w, w_2:w, w_3:w, w_4:w,\n",
        "                                     h1:heading[0], h2:heading[1], h3:heading[2]})) #the motor speeds will not change while hovering\n",
        "  if abs(lAccel[2]) < 1e-12:\n",
        "    lAccel[2] = 0 #set the tolerance at 1e-10 for calculations slightly off from numpy\n",
        "  #update other values accordingly\n",
        "  lPos = lPos + lVel * dt\n",
        "  lVel = lVel + lAccel * dt\n",
        "  #update heading\n",
        "  heading = lVel / sym.sqrt(lVel[0]**2 + lVel[1]**2 + lVel[2]**2)\n",
        "  #determine the current angular acceleration during the timestep\n",
        "  aAccel = aAccelEq.subs({w_x:aVel[0], w_y:aVel[1], w_z:aVel[2], w_1:w, w_2:w, w_3:w, w_4:w}) #the motor speeds will not change while hovering\n",
        "  #update other values accordingly\n",
        "  aPos = aPos + aVel * dt\n",
        "  aVel = aVel + aAccel * dt\n",
        "\n",
        "#extract x, y, z, phi, theta, ans psi values from the lists\n",
        "lPos_valsX = [pos[0] for pos in lPos_vals]\n",
        "lPos_valsY = [pos[1] for pos in lPos_vals]\n",
        "lPos_valsZ = [pos[2] for pos in lPos_vals]\n",
        "aPos_valsPhi = [pos[0] for pos in aPos_vals]\n",
        "aPos_valsTheta = [pos[1] for pos in aPos_vals]\n",
        "aPos_valsPsi = [pos[2] for pos in aPos_vals]\n",
        "\n",
        "#import matplotlib\n",
        "from matplotlib import pyplot as plt\n",
        "\n",
        "#plot out the translational and angular positioning of the drone over 1 minutes of flying in a circle\n",
        "plt.plot(t_vals, lPos_valsX, label=\"X\")\n",
        "plt.plot(t_vals, lPos_valsY, label=\"Y\")\n",
        "plt.plot(t_vals, lPos_valsZ, label=\"Z\")\n",
        "plt.xlabel('Time (s)')\n",
        "plt.ylabel('Position (m)')\n",
        "plt.title('Linear Position (m) vs Time')\n",
        "plt.legend()\n",
        "plt.show()\n",
        "\n",
        "plt.plot(t_vals, aPos_valsPhi, label=\"Phi\")\n",
        "plt.plot(t_vals, aPos_valsTheta, label=\"Theta\")\n",
        "plt.plot(t_vals, aPos_valsPsi, label=\"Psi\")\n",
        "plt.xlabel('Time (s)')\n",
        "plt.ylabel('Angle (rad)')\n",
        "plt.title('Angular Postion (rad) vs Time')\n",
        "plt.legend()\n",
        "plt.show()\n"
      ]
    }
  ],
  "metadata": {
    "colab": {
      "provenance": []
    },
    "kernelspec": {
      "display_name": "Python 3 (ipykernel)",
      "language": "python",
      "name": "python3"
    },
    "language_info": {
      "codemirror_mode": {
        "name": "ipython",
        "version": 3
      },
      "file_extension": ".py",
      "mimetype": "text/x-python",
      "name": "python",
      "nbconvert_exporter": "python",
      "pygments_lexer": "ipython3",
      "version": "3.11.9"
    }
  },
  "nbformat": 4,
  "nbformat_minor": 5
}
